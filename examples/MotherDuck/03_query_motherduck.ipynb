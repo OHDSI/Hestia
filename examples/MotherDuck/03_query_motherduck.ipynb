{
 "cells": [
  {
   "cell_type": "markdown",
   "metadata": {},
   "source": [
    "# Query Shared MotherDuck Database\n",
    "\n",
    "## Overview\n",
    "\n",
    "This notebook demonstrates how to take a shared MotherDuck database and query it using python."
   ]
  },
  {
   "cell_type": "code",
   "execution_count": null,
   "metadata": {},
   "outputs": [],
   "source": [
    "import os\n",
    "import tomllib\n",
    "import duckdb\n",
    "\n",
    "# Load the TOML file\n",
    "with open(\"config.toml\", \"rb\") as file:\n",
    "    config = tomllib.load(file)\n",
    "\n",
    "# Extract the MD_SERVICE_TOKEN from the loaded config\n",
    "md_service_token = config['mother-duck']['MD_SERVICE_TOKEN']\n",
    "\n",
    "os.environ['motherduck_token'] = md_service_token\n",
    "\n",
    "con = duckdb.connect(f'md:?motherduck_token={md_service_token}') "
   ]
  },
  {
   "cell_type": "code",
   "execution_count": null,
   "metadata": {},
   "outputs": [
    {
     "name": "stdout",
     "output_type": "stream",
     "text": [
      "Already attached\n"
     ]
    }
   ],
   "source": [
    "md_shared_db = config['mother-duck']['MD_SHARED_DB']\n",
    "\n",
    "try:\n",
    "    con.sql(f\"ATTACH '{md_shared_db}' AS md_shared_db\")\n",
    "except Exception as e:\n",
    "    if \"already attached\" in str(e):\n",
    "        print(\"Already attached\")\n",
    "    else:\n",
    "        # Handle other exceptions if needed\n",
    "        print(\"An error occurred:\", e)"
   ]
  },
  {
   "cell_type": "code",
   "execution_count": null,
   "metadata": {},
   "outputs": [],
   "source": [
    "import polars as pl\n",
    "import pandas as pd\n",
    "import ibis\n",
    "\n",
    "#con.sql(\"USE voc_omop54_shared\")\n",
    "\n",
    "# Polars\n",
    "#df = con.sql(\"SELECT * FROM concept\").pl()\n",
    "\n",
    "# Pandas\n",
    "#df = con.sql(\"SELECT * FROM concept\").df()\n",
    "\n",
    "# Ibis\n",
    "duckdb_con = ibis.connect(f'duckdb://md:voc_omop54_shared')"
   ]
  },
  {
   "cell_type": "code",
   "execution_count": null,
   "metadata": {},
   "outputs": [
    {
     "data": {
      "text/plain": [
       "['concept',\n",
       " 'concept_ancestor',\n",
       " 'concept_class',\n",
       " 'concept_recommended',\n",
       " 'concept_relationship',\n",
       " 'concept_synonym',\n",
       " 'vocabulary']"
      ]
     },
     "execution_count": 21,
     "metadata": {},
     "output_type": "execute_result"
    }
   ],
   "source": [
    "ibis.options.interactive = True\n",
    "duckdb_con.list_tables()"
   ]
  },
  {
   "cell_type": "code",
   "execution_count": null,
   "metadata": {},
   "outputs": [
    {
     "data": {
      "text/html": [
       "<pre style=\"white-space:pre;overflow-x:auto;line-height:normal;font-family:Menlo,'DejaVu Sans Mono',consolas,'Courier New',monospace\"></pre>\n"
      ],
      "text/plain": []
     },
     "metadata": {},
     "output_type": "display_data"
    },
    {
     "name": "stdout",
     "output_type": "stream",
     "text": [
      "concept has a total of \u001b[1;36m5166471\u001b[0m non-standard concepts.\n"
     ]
    },
    {
     "data": {
      "text/html": [
       "<pre style=\"white-space:pre;overflow-x:auto;line-height:normal;font-family:Menlo,'DejaVu Sans Mono',consolas,'Courier New',monospace\"></pre>\n"
      ],
      "text/plain": []
     },
     "metadata": {},
     "output_type": "display_data"
    },
    {
     "name": "stdout",
     "output_type": "stream",
     "text": [
      "concept has a total of \u001b[1;36m4274904\u001b[0m standard concepts.\n"
     ]
    },
    {
     "data": {
      "text/html": [
       "<pre style=\"white-space:pre;overflow-x:auto;line-height:normal;font-family:Menlo,'DejaVu Sans Mono',consolas,'Courier New',monospace\">┏━━━━━━━━━━━━┳━━━━━━━━━━━━━━━━━━━━━━━━━━━━━━━━┳━━━━━━━━━━━┳━━━━━━━━━━━━━━━┳━━━━━━━━━━━━━━━━━━┳━━━━━━━━━━━━━━━━━━┳━━━━━━━━━━━━━━┳━━━━━━━━━━━━━━━━━━┳━━━━━━━━━━━━━━━━┳━━━━━━━━━━━━━━━━┓\n",
       "┃<span style=\"font-weight: bold\"> concept_id </span>┃<span style=\"font-weight: bold\"> concept_name                   </span>┃<span style=\"font-weight: bold\"> domain_id </span>┃<span style=\"font-weight: bold\"> vocabulary_id </span>┃<span style=\"font-weight: bold\"> concept_class_id </span>┃<span style=\"font-weight: bold\"> standard_concept </span>┃<span style=\"font-weight: bold\"> concept_code </span>┃<span style=\"font-weight: bold\"> valid_start_date </span>┃<span style=\"font-weight: bold\"> valid_end_date </span>┃<span style=\"font-weight: bold\"> invalid_reason </span>┃\n",
       "┡━━━━━━━━━━━━╇━━━━━━━━━━━━━━━━━━━━━━━━━━━━━━━━╇━━━━━━━━━━━╇━━━━━━━━━━━━━━━╇━━━━━━━━━━━━━━━━━━╇━━━━━━━━━━━━━━━━━━╇━━━━━━━━━━━━━━╇━━━━━━━━━━━━━━━━━━╇━━━━━━━━━━━━━━━━╇━━━━━━━━━━━━━━━━┩\n",
       "│ <span style=\"color: #7f7f7f; text-decoration-color: #7f7f7f\">int32</span>      │ <span style=\"color: #7f7f7f; text-decoration-color: #7f7f7f\">string</span>                         │ <span style=\"color: #7f7f7f; text-decoration-color: #7f7f7f\">string</span>    │ <span style=\"color: #7f7f7f; text-decoration-color: #7f7f7f\">string</span>        │ <span style=\"color: #7f7f7f; text-decoration-color: #7f7f7f\">string</span>           │ <span style=\"color: #7f7f7f; text-decoration-color: #7f7f7f\">string</span>           │ <span style=\"color: #7f7f7f; text-decoration-color: #7f7f7f\">string</span>       │ <span style=\"color: #7f7f7f; text-decoration-color: #7f7f7f\">date</span>             │ <span style=\"color: #7f7f7f; text-decoration-color: #7f7f7f\">date</span>           │ <span style=\"color: #7f7f7f; text-decoration-color: #7f7f7f\">string</span>         │\n",
       "├────────────┼────────────────────────────────┼───────────┼───────────────┼──────────────────┼──────────────────┼──────────────┼──────────────────┼────────────────┼────────────────┤\n",
       "│   <span style=\"color: #008080; text-decoration-color: #008080; font-weight: bold\">45053964</span> │ <span style=\"color: #008000; text-decoration-color: #008000\">CETAPHIL MOISTURIZING CREAM   </span> │ <span style=\"color: #008000; text-decoration-color: #008000\">Device   </span> │ <span style=\"color: #008000; text-decoration-color: #008000\">NDC          </span> │ <span style=\"color: #008000; text-decoration-color: #008000\">Device          </span> │ <span style=\"color: #008000; text-decoration-color: #008000\">S               </span> │ <span style=\"color: #008000; text-decoration-color: #008000\">54868012900 </span> │ <span style=\"color: #800080; text-decoration-color: #800080\">2013-08-05</span>       │ <span style=\"color: #800080; text-decoration-color: #800080\">2099-12-31</span>     │ <span style=\"color: #7f7f7f; text-decoration-color: #7f7f7f\">NULL</span>           │\n",
       "│   <span style=\"color: #008080; text-decoration-color: #008080; font-weight: bold\">45054039</span> │ <span style=\"color: #008000; text-decoration-color: #008000\">CHEMSTRIP 9 TEST STRIPS       </span> │ <span style=\"color: #008000; text-decoration-color: #008000\">Device   </span> │ <span style=\"color: #008000; text-decoration-color: #008000\">NDC          </span> │ <span style=\"color: #008000; text-decoration-color: #008000\">Device          </span> │ <span style=\"color: #008000; text-decoration-color: #008000\">S               </span> │ <span style=\"color: #008000; text-decoration-color: #008000\">54868242000 </span> │ <span style=\"color: #800080; text-decoration-color: #800080\">2013-08-05</span>       │ <span style=\"color: #800080; text-decoration-color: #800080\">2099-12-31</span>     │ <span style=\"color: #7f7f7f; text-decoration-color: #7f7f7f\">NULL</span>           │\n",
       "│   <span style=\"color: #008080; text-decoration-color: #008080; font-weight: bold\">45054831</span> │ <span style=\"color: #008000; text-decoration-color: #008000\">OPSITE DRESSING 5 1/2\" X 4\"   </span> │ <span style=\"color: #008000; text-decoration-color: #008000\">Device   </span> │ <span style=\"color: #008000; text-decoration-color: #008000\">NDC          </span> │ <span style=\"color: #008000; text-decoration-color: #008000\">Device          </span> │ <span style=\"color: #008000; text-decoration-color: #008000\">S               </span> │ <span style=\"color: #008000; text-decoration-color: #008000\">55860004975 </span> │ <span style=\"color: #800080; text-decoration-color: #800080\">2013-08-05</span>       │ <span style=\"color: #800080; text-decoration-color: #800080\">2099-12-31</span>     │ <span style=\"color: #7f7f7f; text-decoration-color: #7f7f7f\">NULL</span>           │\n",
       "│   <span style=\"color: #008080; text-decoration-color: #008080; font-weight: bold\">45054909</span> │ <span style=\"color: #008000; text-decoration-color: #008000\">NEEDLE FREE SYRINGE KIT C     </span> │ <span style=\"color: #008000; text-decoration-color: #008000\">Device   </span> │ <span style=\"color: #008000; text-decoration-color: #008000\">NDC          </span> │ <span style=\"color: #008000; text-decoration-color: #008000\">Device          </span> │ <span style=\"color: #008000; text-decoration-color: #008000\">S               </span> │ <span style=\"color: #008000; text-decoration-color: #008000\">55948022610 </span> │ <span style=\"color: #800080; text-decoration-color: #800080\">2013-08-05</span>       │ <span style=\"color: #800080; text-decoration-color: #800080\">2099-12-31</span>     │ <span style=\"color: #7f7f7f; text-decoration-color: #7f7f7f\">NULL</span>           │\n",
       "│   <span style=\"color: #008080; text-decoration-color: #008080; font-weight: bold\">45054949</span> │ <span style=\"color: #008000; text-decoration-color: #008000\">TRUEPLUS SUPER THIN 28G LANCET</span> │ <span style=\"color: #008000; text-decoration-color: #008000\">Device   </span> │ <span style=\"color: #008000; text-decoration-color: #008000\">NDC          </span> │ <span style=\"color: #008000; text-decoration-color: #008000\">Device          </span> │ <span style=\"color: #008000; text-decoration-color: #008000\">S               </span> │ <span style=\"color: #008000; text-decoration-color: #008000\">56151024221 </span> │ <span style=\"color: #800080; text-decoration-color: #800080\">2013-08-05</span>       │ <span style=\"color: #800080; text-decoration-color: #800080\">2099-12-31</span>     │ <span style=\"color: #7f7f7f; text-decoration-color: #7f7f7f\">NULL</span>           │\n",
       "└────────────┴────────────────────────────────┴───────────┴───────────────┴──────────────────┴──────────────────┴──────────────┴──────────────────┴────────────────┴────────────────┘\n",
       "</pre>\n"
      ],
      "text/plain": [
       "┏━━━━━━━━━━━━┳━━━━━━━━━━━━━━━━━━━━━━━━━━━━━━━━┳━━━━━━━━━━━┳━━━━━━━━━━━━━━━┳━━━━━━━━━━━━━━━━━━┳━━━━━━━━━━━━━━━━━━┳━━━━━━━━━━━━━━┳━━━━━━━━━━━━━━━━━━┳━━━━━━━━━━━━━━━━┳━━━━━━━━━━━━━━━━┓\n",
       "┃\u001b[1m \u001b[0m\u001b[1mconcept_id\u001b[0m\u001b[1m \u001b[0m┃\u001b[1m \u001b[0m\u001b[1mconcept_name\u001b[0m\u001b[1m                  \u001b[0m\u001b[1m \u001b[0m┃\u001b[1m \u001b[0m\u001b[1mdomain_id\u001b[0m\u001b[1m \u001b[0m┃\u001b[1m \u001b[0m\u001b[1mvocabulary_id\u001b[0m\u001b[1m \u001b[0m┃\u001b[1m \u001b[0m\u001b[1mconcept_class_id\u001b[0m\u001b[1m \u001b[0m┃\u001b[1m \u001b[0m\u001b[1mstandard_concept\u001b[0m\u001b[1m \u001b[0m┃\u001b[1m \u001b[0m\u001b[1mconcept_code\u001b[0m\u001b[1m \u001b[0m┃\u001b[1m \u001b[0m\u001b[1mvalid_start_date\u001b[0m\u001b[1m \u001b[0m┃\u001b[1m \u001b[0m\u001b[1mvalid_end_date\u001b[0m\u001b[1m \u001b[0m┃\u001b[1m \u001b[0m\u001b[1minvalid_reason\u001b[0m\u001b[1m \u001b[0m┃\n",
       "┡━━━━━━━━━━━━╇━━━━━━━━━━━━━━━━━━━━━━━━━━━━━━━━╇━━━━━━━━━━━╇━━━━━━━━━━━━━━━╇━━━━━━━━━━━━━━━━━━╇━━━━━━━━━━━━━━━━━━╇━━━━━━━━━━━━━━╇━━━━━━━━━━━━━━━━━━╇━━━━━━━━━━━━━━━━╇━━━━━━━━━━━━━━━━┩\n",
       "│ \u001b[2mint32\u001b[0m      │ \u001b[2mstring\u001b[0m                         │ \u001b[2mstring\u001b[0m    │ \u001b[2mstring\u001b[0m        │ \u001b[2mstring\u001b[0m           │ \u001b[2mstring\u001b[0m           │ \u001b[2mstring\u001b[0m       │ \u001b[2mdate\u001b[0m             │ \u001b[2mdate\u001b[0m           │ \u001b[2mstring\u001b[0m         │\n",
       "├────────────┼────────────────────────────────┼───────────┼───────────────┼──────────────────┼──────────────────┼──────────────┼──────────────────┼────────────────┼────────────────┤\n",
       "│   \u001b[1;36m45053964\u001b[0m │ \u001b[32mCETAPHIL MOISTURIZING CREAM   \u001b[0m │ \u001b[32mDevice   \u001b[0m │ \u001b[32mNDC          \u001b[0m │ \u001b[32mDevice          \u001b[0m │ \u001b[32mS               \u001b[0m │ \u001b[32m54868012900 \u001b[0m │ \u001b[35m2013-08-05\u001b[0m       │ \u001b[35m2099-12-31\u001b[0m     │ \u001b[2mNULL\u001b[0m           │\n",
       "│   \u001b[1;36m45054039\u001b[0m │ \u001b[32mCHEMSTRIP 9 TEST STRIPS       \u001b[0m │ \u001b[32mDevice   \u001b[0m │ \u001b[32mNDC          \u001b[0m │ \u001b[32mDevice          \u001b[0m │ \u001b[32mS               \u001b[0m │ \u001b[32m54868242000 \u001b[0m │ \u001b[35m2013-08-05\u001b[0m       │ \u001b[35m2099-12-31\u001b[0m     │ \u001b[2mNULL\u001b[0m           │\n",
       "│   \u001b[1;36m45054831\u001b[0m │ \u001b[32mOPSITE DRESSING 5 1/2\" X 4\"   \u001b[0m │ \u001b[32mDevice   \u001b[0m │ \u001b[32mNDC          \u001b[0m │ \u001b[32mDevice          \u001b[0m │ \u001b[32mS               \u001b[0m │ \u001b[32m55860004975 \u001b[0m │ \u001b[35m2013-08-05\u001b[0m       │ \u001b[35m2099-12-31\u001b[0m     │ \u001b[2mNULL\u001b[0m           │\n",
       "│   \u001b[1;36m45054909\u001b[0m │ \u001b[32mNEEDLE FREE SYRINGE KIT C     \u001b[0m │ \u001b[32mDevice   \u001b[0m │ \u001b[32mNDC          \u001b[0m │ \u001b[32mDevice          \u001b[0m │ \u001b[32mS               \u001b[0m │ \u001b[32m55948022610 \u001b[0m │ \u001b[35m2013-08-05\u001b[0m       │ \u001b[35m2099-12-31\u001b[0m     │ \u001b[2mNULL\u001b[0m           │\n",
       "│   \u001b[1;36m45054949\u001b[0m │ \u001b[32mTRUEPLUS SUPER THIN 28G LANCET\u001b[0m │ \u001b[32mDevice   \u001b[0m │ \u001b[32mNDC          \u001b[0m │ \u001b[32mDevice          \u001b[0m │ \u001b[32mS               \u001b[0m │ \u001b[32m56151024221 \u001b[0m │ \u001b[35m2013-08-05\u001b[0m       │ \u001b[35m2099-12-31\u001b[0m     │ \u001b[2mNULL\u001b[0m           │\n",
       "└────────────┴────────────────────────────────┴───────────┴───────────────┴──────────────────┴──────────────────┴──────────────┴──────────────────┴────────────────┴────────────────┘"
      ]
     },
     "execution_count": 22,
     "metadata": {},
     "output_type": "execute_result"
    }
   ],
   "source": [
    "table_of_interest = 'concept'\n",
    "\n",
    "\n",
    "\n",
    "df_concept = duckdb_con.table(f'{table_of_interest}')\n",
    "\n",
    "\n",
    "df_filtered_standard_concepts_null = df_concept.filter(df_concept.standard_concept.isnull())\n",
    "df_filtered_standard_concepts_null_count = df_filtered_standard_concepts_null.count()\n",
    "\n",
    "print(f'{table_of_interest} has a total of {df_filtered_standard_concepts_null_count} non-standard concepts.')\n",
    "\n",
    "\n",
    "df_filtered_standard_concepts_notnull = df_concept.filter(~df_concept.standard_concept.isnull())\n",
    "df_filtered_standard_concepts_notnull_count = df_filtered_standard_concepts_notnull.count()\n",
    "\n",
    "print(f'{table_of_interest} has a total of {df_filtered_standard_concepts_notnull_count} standard concepts.')\n",
    "\n",
    "\n",
    "\n",
    "df_filtered_standard_concepts_notnull.head(5)"
   ]
  },
  {
   "cell_type": "code",
   "execution_count": null,
   "metadata": {},
   "outputs": [],
   "source": [
    "df_concept = df_concept['concept_id', 'concept_name', 'domain_id', 'vocabulary_id', 'concept_class_id', 'standard_concept', 'concept_code'].head(2000)\n"
   ]
  },
  {
   "cell_type": "code",
   "execution_count": null,
   "metadata": {},
   "outputs": [
    {
     "data": {
      "text/html": [
       "<div>\n",
       "<style scoped>\n",
       "    .dataframe tbody tr th:only-of-type {\n",
       "        vertical-align: middle;\n",
       "    }\n",
       "\n",
       "    .dataframe tbody tr th {\n",
       "        vertical-align: top;\n",
       "    }\n",
       "\n",
       "    .dataframe thead th {\n",
       "        text-align: right;\n",
       "    }\n",
       "</style>\n",
       "<table border=\"1\" class=\"dataframe\">\n",
       "  <thead>\n",
       "    <tr style=\"text-align: right;\">\n",
       "      <th></th>\n",
       "      <th>unique_id</th>\n",
       "      <th>concept_name</th>\n",
       "      <th>domain_id</th>\n",
       "      <th>vocabulary_id</th>\n",
       "      <th>concept_class_id</th>\n",
       "      <th>standard_concept</th>\n",
       "      <th>concept_code</th>\n",
       "    </tr>\n",
       "  </thead>\n",
       "  <tbody>\n",
       "    <tr>\n",
       "      <th>0</th>\n",
       "      <td>45053734</td>\n",
       "      <td>Etodolac 300 MG Oral Capsule [Lodine]</td>\n",
       "      <td>Drug</td>\n",
       "      <td>NDC</td>\n",
       "      <td>11-digit NDC</td>\n",
       "      <td>None</td>\n",
       "      <td>54569326401</td>\n",
       "    </tr>\n",
       "    <tr>\n",
       "      <th>1</th>\n",
       "      <td>45053735</td>\n",
       "      <td>Cephalexin 500 MG Oral Capsule</td>\n",
       "      <td>Drug</td>\n",
       "      <td>NDC</td>\n",
       "      <td>11-digit NDC</td>\n",
       "      <td>None</td>\n",
       "      <td>54569332406</td>\n",
       "    </tr>\n",
       "    <tr>\n",
       "      <th>2</th>\n",
       "      <td>45053736</td>\n",
       "      <td>Amoxicillin 500 MG Oral Capsule</td>\n",
       "      <td>Drug</td>\n",
       "      <td>NDC</td>\n",
       "      <td>11-digit NDC</td>\n",
       "      <td>None</td>\n",
       "      <td>54569333501</td>\n",
       "    </tr>\n",
       "    <tr>\n",
       "      <th>3</th>\n",
       "      <td>45053737</td>\n",
       "      <td>12 HR Hyoscyamine Sulfate 0.375 MG Extended Re...</td>\n",
       "      <td>Drug</td>\n",
       "      <td>NDC</td>\n",
       "      <td>11-digit NDC</td>\n",
       "      <td>None</td>\n",
       "      <td>54569349600</td>\n",
       "    </tr>\n",
       "    <tr>\n",
       "      <th>4</th>\n",
       "      <td>45053738</td>\n",
       "      <td>Chloroprocaine hydrochloride 10 MG/ML Injectab...</td>\n",
       "      <td>Drug</td>\n",
       "      <td>NDC</td>\n",
       "      <td>11-digit NDC</td>\n",
       "      <td>None</td>\n",
       "      <td>54569350000</td>\n",
       "    </tr>\n",
       "    <tr>\n",
       "      <th>...</th>\n",
       "      <td>...</td>\n",
       "      <td>...</td>\n",
       "      <td>...</td>\n",
       "      <td>...</td>\n",
       "      <td>...</td>\n",
       "      <td>...</td>\n",
       "      <td>...</td>\n",
       "    </tr>\n",
       "    <tr>\n",
       "      <th>1995</th>\n",
       "      <td>45055729</td>\n",
       "      <td>Neomycin Sulfate 500 MG Oral Tablet</td>\n",
       "      <td>Drug</td>\n",
       "      <td>NDC</td>\n",
       "      <td>11-digit NDC</td>\n",
       "      <td>None</td>\n",
       "      <td>58016076777</td>\n",
       "    </tr>\n",
       "    <tr>\n",
       "      <th>1996</th>\n",
       "      <td>45055730</td>\n",
       "      <td>Neomycin Sulfate 500 MG Oral Tablet</td>\n",
       "      <td>Drug</td>\n",
       "      <td>NDC</td>\n",
       "      <td>11-digit NDC</td>\n",
       "      <td>None</td>\n",
       "      <td>58016076781</td>\n",
       "    </tr>\n",
       "    <tr>\n",
       "      <th>1997</th>\n",
       "      <td>45055731</td>\n",
       "      <td>Neomycin Sulfate 500 MG Oral Tablet</td>\n",
       "      <td>Drug</td>\n",
       "      <td>NDC</td>\n",
       "      <td>11-digit NDC</td>\n",
       "      <td>None</td>\n",
       "      <td>58016076789</td>\n",
       "    </tr>\n",
       "    <tr>\n",
       "      <th>1998</th>\n",
       "      <td>45055732</td>\n",
       "      <td>Divalproex Sodium 500 MG Enteric Coated Tablet...</td>\n",
       "      <td>Drug</td>\n",
       "      <td>NDC</td>\n",
       "      <td>11-digit NDC</td>\n",
       "      <td>None</td>\n",
       "      <td>58016077407</td>\n",
       "    </tr>\n",
       "    <tr>\n",
       "      <th>1999</th>\n",
       "      <td>45055733</td>\n",
       "      <td>erythromycin stearate 250 MG Oral Tablet [Eryt...</td>\n",
       "      <td>Drug</td>\n",
       "      <td>NDC</td>\n",
       "      <td>11-digit NDC</td>\n",
       "      <td>None</td>\n",
       "      <td>58016077579</td>\n",
       "    </tr>\n",
       "  </tbody>\n",
       "</table>\n",
       "<p>2000 rows × 7 columns</p>\n",
       "</div>"
      ],
      "text/plain": [
       "      unique_id                                       concept_name domain_id  \\\n",
       "0      45053734              Etodolac 300 MG Oral Capsule [Lodine]      Drug   \n",
       "1      45053735                     Cephalexin 500 MG Oral Capsule      Drug   \n",
       "2      45053736                    Amoxicillin 500 MG Oral Capsule      Drug   \n",
       "3      45053737  12 HR Hyoscyamine Sulfate 0.375 MG Extended Re...      Drug   \n",
       "4      45053738  Chloroprocaine hydrochloride 10 MG/ML Injectab...      Drug   \n",
       "...         ...                                                ...       ...   \n",
       "1995   45055729                Neomycin Sulfate 500 MG Oral Tablet      Drug   \n",
       "1996   45055730                Neomycin Sulfate 500 MG Oral Tablet      Drug   \n",
       "1997   45055731                Neomycin Sulfate 500 MG Oral Tablet      Drug   \n",
       "1998   45055732  Divalproex Sodium 500 MG Enteric Coated Tablet...      Drug   \n",
       "1999   45055733  erythromycin stearate 250 MG Oral Tablet [Eryt...      Drug   \n",
       "\n",
       "     vocabulary_id concept_class_id standard_concept concept_code  \n",
       "0              NDC     11-digit NDC             None  54569326401  \n",
       "1              NDC     11-digit NDC             None  54569332406  \n",
       "2              NDC     11-digit NDC             None  54569333501  \n",
       "3              NDC     11-digit NDC             None  54569349600  \n",
       "4              NDC     11-digit NDC             None  54569350000  \n",
       "...            ...              ...              ...          ...  \n",
       "1995           NDC     11-digit NDC             None  58016076777  \n",
       "1996           NDC     11-digit NDC             None  58016076781  \n",
       "1997           NDC     11-digit NDC             None  58016076789  \n",
       "1998           NDC     11-digit NDC             None  58016077407  \n",
       "1999           NDC     11-digit NDC             None  58016077579  \n",
       "\n",
       "[2000 rows x 7 columns]"
      ]
     },
     "execution_count": 32,
     "metadata": {},
     "output_type": "execute_result"
    }
   ],
   "source": [
    "df1 = df_concept.to_pandas()\n",
    "#df1.rename(columns={'concept_id': 'unique_id'}, inplace=True)\n",
    "df1"
   ]
  }
 ],
 "metadata": {
  "kernelspec": {
   "display_name": "Python 3",
   "language": "python",
   "name": "python3"
  },
  "language_info": {
   "codemirror_mode": {
    "name": "ipython",
    "version": 3
   },
   "file_extension": ".py",
   "mimetype": "text/x-python",
   "name": "python",
   "nbconvert_exporter": "python",
   "pygments_lexer": "ipython3",
   "version": "3.11.8"
  }
 },
 "nbformat": 4,
 "nbformat_minor": 2
}
