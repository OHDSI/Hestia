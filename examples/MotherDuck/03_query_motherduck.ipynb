{
 "cells": [
  {
   "cell_type": "markdown",
   "metadata": {},
   "source": [
    "# Query Shared MotherDuck Database\n",
    "\n",
    "## Overview\n",
    "\n",
    "This notebook demonstrates how to take a shared MotherDuck database and query it using python."
   ]
  },
  {
   "cell_type": "code",
   "execution_count": 1,
   "metadata": {},
   "outputs": [],
   "source": [
    "import os\n",
    "import tomllib\n",
    "import duckdb\n",
    "\n",
    "# Load the TOML file\n",
    "with open(\"config.toml\", \"rb\") as file:\n",
    "    config = tomllib.load(file)\n",
    "\n",
    "# Extract the MD_SERVICE_TOKEN from the loaded config\n",
    "md_service_token = config['mother-duck']['MD_SERVICE_TOKEN']\n",
    "\n",
    "os.environ['motherduck_token'] = md_service_token\n",
    "\n",
    "con = duckdb.connect(f'md:?motherduck_token={md_service_token}') "
   ]
  },
  {
   "cell_type": "code",
   "execution_count": 2,
   "metadata": {},
   "outputs": [
    {
     "name": "stdout",
     "output_type": "stream",
     "text": [
      "Already attached\n"
     ]
    }
   ],
   "source": [
    "md_shared_db = config['mother-duck']['MD_SHARED_DB']\n",
    "\n",
    "try:\n",
    "    con.sql(f\"ATTACH '{md_shared_db}' AS md_shared_db\")\n",
    "except Exception as e:\n",
    "    if \"already attached\" in str(e):\n",
    "        print(\"Already attached\")\n",
    "    else:\n",
    "        # Handle other exceptions if needed\n",
    "        print(\"An error occurred:\", e)"
   ]
  },
  {
   "cell_type": "code",
   "execution_count": 3,
   "metadata": {},
   "outputs": [],
   "source": [
    "import polars as pl\n",
    "import pandas as pd\n",
    "import ibis\n",
    "\n",
    "#con.sql(\"USE voc_omop54_shared\")\n",
    "\n",
    "# Polars\n",
    "#df = con.sql(\"SELECT * FROM concept\").pl()\n",
    "\n",
    "# Pandas\n",
    "#df = con.sql(\"SELECT * FROM concept\").df()\n",
    "\n",
    "# Ibis\n",
    "duckdb_con = ibis.connect(f'duckdb://md:voc_omop54_shared')"
   ]
  },
  {
   "cell_type": "code",
   "execution_count": 4,
   "metadata": {},
   "outputs": [
    {
     "data": {
      "text/plain": [
       "['concept',\n",
       " 'concept_ancestor',\n",
       " 'concept_class',\n",
       " 'concept_recommended',\n",
       " 'concept_relationship',\n",
       " 'concept_synonym',\n",
       " 'vocabulary']"
      ]
     },
     "execution_count": 4,
     "metadata": {},
     "output_type": "execute_result"
    }
   ],
   "source": [
    "ibis.options.interactive = True\n",
    "duckdb_con.list_tables()"
   ]
  },
  {
   "cell_type": "code",
   "execution_count": 5,
   "metadata": {},
   "outputs": [
    {
     "data": {
      "text/html": [
       "<pre style=\"white-space:pre;overflow-x:auto;line-height:normal;font-family:Menlo,'DejaVu Sans Mono',consolas,'Courier New',monospace\"></pre>\n"
      ],
      "text/plain": []
     },
     "metadata": {},
     "output_type": "display_data"
    },
    {
     "name": "stdout",
     "output_type": "stream",
     "text": [
      "concept has a total of \u001b[1;36m9441375\u001b[0m rows.\n"
     ]
    }
   ],
   "source": [
    "table_of_interest = 'concept'\n",
    "\n",
    "df_concept = duckdb_con.table(f'{table_of_interest}')\n",
    "row_count = df_concept.count()\n",
    "\n",
    "print(f'{table_of_interest} has a total of {row_count} rows.')"
   ]
  },
  {
   "cell_type": "code",
   "execution_count": 6,
   "metadata": {},
   "outputs": [
    {
     "data": {
      "text/html": [
       "<pre style=\"white-space:pre;overflow-x:auto;line-height:normal;font-family:Menlo,'DejaVu Sans Mono',consolas,'Courier New',monospace\">┏━━━━━━━━━━━━┳━━━━━━━━━━━━━━━━━━━━━━━━━━━━━━━━━━━━━━━━━━━━━━━━━━━━━━━━━━━━━━━━━━━━━━━━┳━━━━━━━━━━━┳━━━━━━━━━━━━━━━┳━━━━━━━━━━━━━━━━━━┳━━━━━━━━━━━━━━━━━━┳━━━━━━━━━━━━━━┳━━━━━━━━━━━━━━━━━━┳━━━━━━━━━━━━━━━━┳━━━━━━━━━━━━━━━━┓\n",
       "┃<span style=\"font-weight: bold\"> concept_id </span>┃<span style=\"font-weight: bold\"> concept_name                                                           </span>┃<span style=\"font-weight: bold\"> domain_id </span>┃<span style=\"font-weight: bold\"> vocabulary_id </span>┃<span style=\"font-weight: bold\"> concept_class_id </span>┃<span style=\"font-weight: bold\"> standard_concept </span>┃<span style=\"font-weight: bold\"> concept_code </span>┃<span style=\"font-weight: bold\"> valid_start_date </span>┃<span style=\"font-weight: bold\"> valid_end_date </span>┃<span style=\"font-weight: bold\"> invalid_reason </span>┃\n",
       "┡━━━━━━━━━━━━╇━━━━━━━━━━━━━━━━━━━━━━━━━━━━━━━━━━━━━━━━━━━━━━━━━━━━━━━━━━━━━━━━━━━━━━━━╇━━━━━━━━━━━╇━━━━━━━━━━━━━━━╇━━━━━━━━━━━━━━━━━━╇━━━━━━━━━━━━━━━━━━╇━━━━━━━━━━━━━━╇━━━━━━━━━━━━━━━━━━╇━━━━━━━━━━━━━━━━╇━━━━━━━━━━━━━━━━┩\n",
       "│ <span style=\"color: #7f7f7f; text-decoration-color: #7f7f7f\">int32</span>      │ <span style=\"color: #7f7f7f; text-decoration-color: #7f7f7f\">string</span>                                                                 │ <span style=\"color: #7f7f7f; text-decoration-color: #7f7f7f\">string</span>    │ <span style=\"color: #7f7f7f; text-decoration-color: #7f7f7f\">string</span>        │ <span style=\"color: #7f7f7f; text-decoration-color: #7f7f7f\">string</span>           │ <span style=\"color: #7f7f7f; text-decoration-color: #7f7f7f\">string</span>           │ <span style=\"color: #7f7f7f; text-decoration-color: #7f7f7f\">string</span>       │ <span style=\"color: #7f7f7f; text-decoration-color: #7f7f7f\">date</span>             │ <span style=\"color: #7f7f7f; text-decoration-color: #7f7f7f\">date</span>           │ <span style=\"color: #7f7f7f; text-decoration-color: #7f7f7f\">string</span>         │\n",
       "├────────────┼────────────────────────────────────────────────────────────────────────┼───────────┼───────────────┼──────────────────┼──────────────────┼──────────────┼──────────────────┼────────────────┼────────────────┤\n",
       "│   <span style=\"color: #008080; text-decoration-color: #008080; font-weight: bold\">45053734</span> │ <span style=\"color: #008000; text-decoration-color: #008000\">Etodolac 300 MG Oral Capsule [Lodine]                                 </span> │ <span style=\"color: #008000; text-decoration-color: #008000\">Drug     </span> │ <span style=\"color: #008000; text-decoration-color: #008000\">NDC          </span> │ <span style=\"color: #008000; text-decoration-color: #008000\">11-digit NDC    </span> │ <span style=\"color: #7f7f7f; text-decoration-color: #7f7f7f\">NULL</span>             │ <span style=\"color: #008000; text-decoration-color: #008000\">54569326401 </span> │ <span style=\"color: #800080; text-decoration-color: #800080\">2007-06-01</span>       │ <span style=\"color: #800080; text-decoration-color: #800080\">2011-01-01</span>     │ <span style=\"color: #008000; text-decoration-color: #008000\">D             </span> │\n",
       "│   <span style=\"color: #008080; text-decoration-color: #008080; font-weight: bold\">45053735</span> │ <span style=\"color: #008000; text-decoration-color: #008000\">Cephalexin 500 MG Oral Capsule                                        </span> │ <span style=\"color: #008000; text-decoration-color: #008000\">Drug     </span> │ <span style=\"color: #008000; text-decoration-color: #008000\">NDC          </span> │ <span style=\"color: #008000; text-decoration-color: #008000\">11-digit NDC    </span> │ <span style=\"color: #7f7f7f; text-decoration-color: #7f7f7f\">NULL</span>             │ <span style=\"color: #008000; text-decoration-color: #008000\">54569332406 </span> │ <span style=\"color: #800080; text-decoration-color: #800080\">2007-06-01</span>       │ <span style=\"color: #800080; text-decoration-color: #800080\">2012-12-01</span>     │ <span style=\"color: #008000; text-decoration-color: #008000\">D             </span> │\n",
       "│   <span style=\"color: #008080; text-decoration-color: #008080; font-weight: bold\">45053736</span> │ <span style=\"color: #008000; text-decoration-color: #008000\">Amoxicillin 500 MG Oral Capsule                                       </span> │ <span style=\"color: #008000; text-decoration-color: #008000\">Drug     </span> │ <span style=\"color: #008000; text-decoration-color: #008000\">NDC          </span> │ <span style=\"color: #008000; text-decoration-color: #008000\">11-digit NDC    </span> │ <span style=\"color: #7f7f7f; text-decoration-color: #7f7f7f\">NULL</span>             │ <span style=\"color: #008000; text-decoration-color: #008000\">54569333501 </span> │ <span style=\"color: #800080; text-decoration-color: #800080\">2007-06-01</span>       │ <span style=\"color: #800080; text-decoration-color: #800080\">2012-12-01</span>     │ <span style=\"color: #008000; text-decoration-color: #008000\">D             </span> │\n",
       "│   <span style=\"color: #008080; text-decoration-color: #008080; font-weight: bold\">45053737</span> │ <span style=\"color: #008000; text-decoration-color: #008000\">12 HR Hyoscyamine Sulfate 0.375 MG Extended Release Capsule [Levsinex]</span> │ <span style=\"color: #008000; text-decoration-color: #008000\">Drug     </span> │ <span style=\"color: #008000; text-decoration-color: #008000\">NDC          </span> │ <span style=\"color: #008000; text-decoration-color: #008000\">11-digit NDC    </span> │ <span style=\"color: #7f7f7f; text-decoration-color: #7f7f7f\">NULL</span>             │ <span style=\"color: #008000; text-decoration-color: #008000\">54569349600 </span> │ <span style=\"color: #800080; text-decoration-color: #800080\">2011-01-01</span>       │ <span style=\"color: #800080; text-decoration-color: #800080\">2013-07-01</span>     │ <span style=\"color: #008000; text-decoration-color: #008000\">D             </span> │\n",
       "│   <span style=\"color: #008080; text-decoration-color: #008080; font-weight: bold\">45053738</span> │ <span style=\"color: #008000; text-decoration-color: #008000\">Chloroprocaine hydrochloride 10 MG/ML Injectable Solution [Nesacaine] </span> │ <span style=\"color: #008000; text-decoration-color: #008000\">Drug     </span> │ <span style=\"color: #008000; text-decoration-color: #008000\">NDC          </span> │ <span style=\"color: #008000; text-decoration-color: #008000\">11-digit NDC    </span> │ <span style=\"color: #7f7f7f; text-decoration-color: #7f7f7f\">NULL</span>             │ <span style=\"color: #008000; text-decoration-color: #008000\">54569350000 </span> │ <span style=\"color: #800080; text-decoration-color: #800080\">2010-06-01</span>       │ <span style=\"color: #800080; text-decoration-color: #800080\">2013-07-01</span>     │ <span style=\"color: #008000; text-decoration-color: #008000\">D             </span> │\n",
       "└────────────┴────────────────────────────────────────────────────────────────────────┴───────────┴───────────────┴──────────────────┴──────────────────┴──────────────┴──────────────────┴────────────────┴────────────────┘\n",
       "</pre>\n"
      ],
      "text/plain": [
       "┏━━━━━━━━━━━━┳━━━━━━━━━━━━━━━━━━━━━━━━━━━━━━━━━━━━━━━━━━━━━━━━━━━━━━━━━━━━━━━━━━━━━━━━┳━━━━━━━━━━━┳━━━━━━━━━━━━━━━┳━━━━━━━━━━━━━━━━━━┳━━━━━━━━━━━━━━━━━━┳━━━━━━━━━━━━━━┳━━━━━━━━━━━━━━━━━━┳━━━━━━━━━━━━━━━━┳━━━━━━━━━━━━━━━━┓\n",
       "┃\u001b[1m \u001b[0m\u001b[1mconcept_id\u001b[0m\u001b[1m \u001b[0m┃\u001b[1m \u001b[0m\u001b[1mconcept_name\u001b[0m\u001b[1m                                                          \u001b[0m\u001b[1m \u001b[0m┃\u001b[1m \u001b[0m\u001b[1mdomain_id\u001b[0m\u001b[1m \u001b[0m┃\u001b[1m \u001b[0m\u001b[1mvocabulary_id\u001b[0m\u001b[1m \u001b[0m┃\u001b[1m \u001b[0m\u001b[1mconcept_class_id\u001b[0m\u001b[1m \u001b[0m┃\u001b[1m \u001b[0m\u001b[1mstandard_concept\u001b[0m\u001b[1m \u001b[0m┃\u001b[1m \u001b[0m\u001b[1mconcept_code\u001b[0m\u001b[1m \u001b[0m┃\u001b[1m \u001b[0m\u001b[1mvalid_start_date\u001b[0m\u001b[1m \u001b[0m┃\u001b[1m \u001b[0m\u001b[1mvalid_end_date\u001b[0m\u001b[1m \u001b[0m┃\u001b[1m \u001b[0m\u001b[1minvalid_reason\u001b[0m\u001b[1m \u001b[0m┃\n",
       "┡━━━━━━━━━━━━╇━━━━━━━━━━━━━━━━━━━━━━━━━━━━━━━━━━━━━━━━━━━━━━━━━━━━━━━━━━━━━━━━━━━━━━━━╇━━━━━━━━━━━╇━━━━━━━━━━━━━━━╇━━━━━━━━━━━━━━━━━━╇━━━━━━━━━━━━━━━━━━╇━━━━━━━━━━━━━━╇━━━━━━━━━━━━━━━━━━╇━━━━━━━━━━━━━━━━╇━━━━━━━━━━━━━━━━┩\n",
       "│ \u001b[2mint32\u001b[0m      │ \u001b[2mstring\u001b[0m                                                                 │ \u001b[2mstring\u001b[0m    │ \u001b[2mstring\u001b[0m        │ \u001b[2mstring\u001b[0m           │ \u001b[2mstring\u001b[0m           │ \u001b[2mstring\u001b[0m       │ \u001b[2mdate\u001b[0m             │ \u001b[2mdate\u001b[0m           │ \u001b[2mstring\u001b[0m         │\n",
       "├────────────┼────────────────────────────────────────────────────────────────────────┼───────────┼───────────────┼──────────────────┼──────────────────┼──────────────┼──────────────────┼────────────────┼────────────────┤\n",
       "│   \u001b[1;36m45053734\u001b[0m │ \u001b[32mEtodolac 300 MG Oral Capsule [Lodine]                                 \u001b[0m │ \u001b[32mDrug     \u001b[0m │ \u001b[32mNDC          \u001b[0m │ \u001b[32m11-digit NDC    \u001b[0m │ \u001b[2mNULL\u001b[0m             │ \u001b[32m54569326401 \u001b[0m │ \u001b[35m2007-06-01\u001b[0m       │ \u001b[35m2011-01-01\u001b[0m     │ \u001b[32mD             \u001b[0m │\n",
       "│   \u001b[1;36m45053735\u001b[0m │ \u001b[32mCephalexin 500 MG Oral Capsule                                        \u001b[0m │ \u001b[32mDrug     \u001b[0m │ \u001b[32mNDC          \u001b[0m │ \u001b[32m11-digit NDC    \u001b[0m │ \u001b[2mNULL\u001b[0m             │ \u001b[32m54569332406 \u001b[0m │ \u001b[35m2007-06-01\u001b[0m       │ \u001b[35m2012-12-01\u001b[0m     │ \u001b[32mD             \u001b[0m │\n",
       "│   \u001b[1;36m45053736\u001b[0m │ \u001b[32mAmoxicillin 500 MG Oral Capsule                                       \u001b[0m │ \u001b[32mDrug     \u001b[0m │ \u001b[32mNDC          \u001b[0m │ \u001b[32m11-digit NDC    \u001b[0m │ \u001b[2mNULL\u001b[0m             │ \u001b[32m54569333501 \u001b[0m │ \u001b[35m2007-06-01\u001b[0m       │ \u001b[35m2012-12-01\u001b[0m     │ \u001b[32mD             \u001b[0m │\n",
       "│   \u001b[1;36m45053737\u001b[0m │ \u001b[32m12 HR Hyoscyamine Sulfate 0.375 MG Extended Release Capsule [Levsinex]\u001b[0m │ \u001b[32mDrug     \u001b[0m │ \u001b[32mNDC          \u001b[0m │ \u001b[32m11-digit NDC    \u001b[0m │ \u001b[2mNULL\u001b[0m             │ \u001b[32m54569349600 \u001b[0m │ \u001b[35m2011-01-01\u001b[0m       │ \u001b[35m2013-07-01\u001b[0m     │ \u001b[32mD             \u001b[0m │\n",
       "│   \u001b[1;36m45053738\u001b[0m │ \u001b[32mChloroprocaine hydrochloride 10 MG/ML Injectable Solution [Nesacaine] \u001b[0m │ \u001b[32mDrug     \u001b[0m │ \u001b[32mNDC          \u001b[0m │ \u001b[32m11-digit NDC    \u001b[0m │ \u001b[2mNULL\u001b[0m             │ \u001b[32m54569350000 \u001b[0m │ \u001b[35m2010-06-01\u001b[0m       │ \u001b[35m2013-07-01\u001b[0m     │ \u001b[32mD             \u001b[0m │\n",
       "└────────────┴────────────────────────────────────────────────────────────────────────┴───────────┴───────────────┴──────────────────┴──────────────────┴──────────────┴──────────────────┴────────────────┴────────────────┘"
      ]
     },
     "execution_count": 6,
     "metadata": {},
     "output_type": "execute_result"
    }
   ],
   "source": [
    "df_concept.head(5)"
   ]
  }
 ],
 "metadata": {
  "kernelspec": {
   "display_name": "Python 3",
   "language": "python",
   "name": "python3"
  },
  "language_info": {
   "codemirror_mode": {
    "name": "ipython",
    "version": 3
   },
   "file_extension": ".py",
   "mimetype": "text/x-python",
   "name": "python",
   "nbconvert_exporter": "python",
   "pygments_lexer": "ipython3",
   "version": "3.11.8"
  }
 },
 "nbformat": 4,
 "nbformat_minor": 2
}
