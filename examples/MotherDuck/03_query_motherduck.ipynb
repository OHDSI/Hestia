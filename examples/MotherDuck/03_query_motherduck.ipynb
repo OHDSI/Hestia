{
 "cells": [
  {
   "cell_type": "markdown",
   "metadata": {},
   "source": [
    "# Query Shared MotherDuck Database\n",
    "\n",
    "## Overview\n",
    "\n",
    "This notebook demonstrates how to take a shared MotherDuck database and query it using python."
   ]
  },
  {
   "cell_type": "code",
   "execution_count": 35,
   "metadata": {},
   "outputs": [],
   "source": [
    "import os\n",
    "import tomllib\n",
    "import duckdb\n",
    "\n",
    "# Load the TOML file\n",
    "with open(\"config.toml\", \"rb\") as file:\n",
    "    config = tomllib.load(file)\n",
    "\n",
    "# Extract the MD_SERVICE_TOKEN from the loaded config\n",
    "md_service_token = config['mother-duck']['MD_SERVICE_TOKEN']\n",
    "\n",
    "\n",
    "con = duckdb.connect(f'md:?motherduck_token={md_service_token}') "
   ]
  },
  {
   "cell_type": "code",
   "execution_count": 36,
   "metadata": {},
   "outputs": [
    {
     "name": "stdout",
     "output_type": "stream",
     "text": [
      "Already attached\n"
     ]
    }
   ],
   "source": [
    "try:\n",
    "    con.sql(\"ATTACH 'md:_share/voc_omop54/dd02ef6b-06c3-4292-b957-b50baadecc2e' AS voc_omop54_shared\")\n",
    "except Exception as e:\n",
    "    if \"already attached\" in str(e):\n",
    "        print(\"Already attached\")\n",
    "    else:\n",
    "        # Handle other exceptions if needed\n",
    "        print(\"An error occurred:\", e)"
   ]
  },
  {
   "cell_type": "code",
   "execution_count": 37,
   "metadata": {},
   "outputs": [
    {
     "name": "stdout",
     "output_type": "stream",
     "text": [
      "┌───────────────────┐\n",
      "│   database_name   │\n",
      "│      varchar      │\n",
      "├───────────────────┤\n",
      "│ my_db             │\n",
      "│ voc_omop54        │\n",
      "│ voc_omop54_shared │\n",
      "└───────────────────┘\n",
      "\n"
     ]
    }
   ],
   "source": [
    "con.sql(\"SHOW DATABASES\").show()"
   ]
  },
  {
   "cell_type": "code",
   "execution_count": 51,
   "metadata": {},
   "outputs": [
    {
     "data": {
      "application/vnd.jupyter.widget-view+json": {
       "model_id": "cba2abd3a5694a689b22c3a0d7cf114a",
       "version_major": 2,
       "version_minor": 0
      },
      "text/plain": [
       "FloatProgress(value=0.0, layout=Layout(width='auto'), style=ProgressStyle(bar_color='black'))"
      ]
     },
     "metadata": {},
     "output_type": "display_data"
    }
   ],
   "source": [
    "import polars as pl\n",
    "\n",
    "con.sql(\"USE voc_omop54_shared\")\n",
    "df = con.sql(\"SELECT * FROM concept\").pl()"
   ]
  },
  {
   "cell_type": "code",
   "execution_count": 52,
   "metadata": {},
   "outputs": [
    {
     "data": {
      "text/html": [
       "<div><style>\n",
       ".dataframe > thead > tr,\n",
       ".dataframe > tbody > tr {\n",
       "  text-align: right;\n",
       "  white-space: pre-wrap;\n",
       "}\n",
       "</style>\n",
       "<small>shape: (9_441_375, 10)</small><table border=\"1\" class=\"dataframe\"><thead><tr><th>concept_id</th><th>concept_name</th><th>domain_id</th><th>vocabulary_id</th><th>concept_class_id</th><th>standard_concept</th><th>concept_code</th><th>valid_start_date</th><th>valid_end_date</th><th>invalid_reason</th></tr><tr><td>i32</td><td>str</td><td>str</td><td>str</td><td>str</td><td>str</td><td>str</td><td>date</td><td>date</td><td>str</td></tr></thead><tbody><tr><td>45053734</td><td>&quot;Etodolac 300 M…</td><td>&quot;Drug&quot;</td><td>&quot;NDC&quot;</td><td>&quot;11-digit NDC&quot;</td><td>null</td><td>&quot;54569326401&quot;</td><td>2007-06-01</td><td>2011-01-01</td><td>&quot;D&quot;</td></tr><tr><td>45053735</td><td>&quot;Cephalexin 500…</td><td>&quot;Drug&quot;</td><td>&quot;NDC&quot;</td><td>&quot;11-digit NDC&quot;</td><td>null</td><td>&quot;54569332406&quot;</td><td>2007-06-01</td><td>2012-12-01</td><td>&quot;D&quot;</td></tr><tr><td>45053736</td><td>&quot;Amoxicillin 50…</td><td>&quot;Drug&quot;</td><td>&quot;NDC&quot;</td><td>&quot;11-digit NDC&quot;</td><td>null</td><td>&quot;54569333501&quot;</td><td>2007-06-01</td><td>2012-12-01</td><td>&quot;D&quot;</td></tr><tr><td>45053737</td><td>&quot;12 HR Hyoscyam…</td><td>&quot;Drug&quot;</td><td>&quot;NDC&quot;</td><td>&quot;11-digit NDC&quot;</td><td>null</td><td>&quot;54569349600&quot;</td><td>2011-01-01</td><td>2013-07-01</td><td>&quot;D&quot;</td></tr><tr><td>45053738</td><td>&quot;Chloroprocaine…</td><td>&quot;Drug&quot;</td><td>&quot;NDC&quot;</td><td>&quot;11-digit NDC&quot;</td><td>null</td><td>&quot;54569350000&quot;</td><td>2010-06-01</td><td>2013-07-01</td><td>&quot;D&quot;</td></tr><tr><td>&hellip;</td><td>&hellip;</td><td>&hellip;</td><td>&hellip;</td><td>&hellip;</td><td>&hellip;</td><td>&hellip;</td><td>&hellip;</td><td>&hellip;</td><td>&hellip;</td></tr><tr><td>45053729</td><td>&quot;Thiamine 100 M…</td><td>&quot;Drug&quot;</td><td>&quot;NDC&quot;</td><td>&quot;11-digit NDC&quot;</td><td>null</td><td>&quot;54569288001&quot;</td><td>2012-08-01</td><td>2017-06-01</td><td>&quot;D&quot;</td></tr><tr><td>45053730</td><td>&quot;Lidocaine Hydr…</td><td>&quot;Drug&quot;</td><td>&quot;NDC&quot;</td><td>&quot;11-digit NDC&quot;</td><td>null</td><td>&quot;54569294300&quot;</td><td>2010-10-01</td><td>2013-07-01</td><td>&quot;D&quot;</td></tr><tr><td>45053731</td><td>&quot;Sulfamethoxazo…</td><td>&quot;Drug&quot;</td><td>&quot;NDC&quot;</td><td>&quot;11-digit NDC&quot;</td><td>null</td><td>&quot;54569298604&quot;</td><td>2007-06-01</td><td>2013-07-01</td><td>&quot;D&quot;</td></tr><tr><td>45053732</td><td>&quot;Dexamethasone …</td><td>&quot;Drug&quot;</td><td>&quot;NDC&quot;</td><td>&quot;11-digit NDC&quot;</td><td>null</td><td>&quot;54569302700&quot;</td><td>2013-10-01</td><td>2016-01-01</td><td>&quot;D&quot;</td></tr><tr><td>45053733</td><td>&quot;Desiccated thy…</td><td>&quot;Drug&quot;</td><td>&quot;NDC&quot;</td><td>&quot;11-digit NDC&quot;</td><td>null</td><td>&quot;54569317904&quot;</td><td>2007-06-01</td><td>2011-01-01</td><td>&quot;D&quot;</td></tr></tbody></table></div>"
      ],
      "text/plain": [
       "shape: (9_441_375, 10)\n",
       "┌───────────┬───────────┬───────────┬───────────┬───┬───────────┬───────────┬───────────┬──────────┐\n",
       "│ concept_i ┆ concept_n ┆ domain_id ┆ vocabular ┆ … ┆ concept_c ┆ valid_sta ┆ valid_end ┆ invalid_ │\n",
       "│ d         ┆ ame       ┆ ---       ┆ y_id      ┆   ┆ ode       ┆ rt_date   ┆ _date     ┆ reason   │\n",
       "│ ---       ┆ ---       ┆ str       ┆ ---       ┆   ┆ ---       ┆ ---       ┆ ---       ┆ ---      │\n",
       "│ i32       ┆ str       ┆           ┆ str       ┆   ┆ str       ┆ date      ┆ date      ┆ str      │\n",
       "╞═══════════╪═══════════╪═══════════╪═══════════╪═══╪═══════════╪═══════════╪═══════════╪══════════╡\n",
       "│ 45053734  ┆ Etodolac  ┆ Drug      ┆ NDC       ┆ … ┆ 545693264 ┆ 2007-06-0 ┆ 2011-01-0 ┆ D        │\n",
       "│           ┆ 300 MG    ┆           ┆           ┆   ┆ 01        ┆ 1         ┆ 1         ┆          │\n",
       "│           ┆ Oral      ┆           ┆           ┆   ┆           ┆           ┆           ┆          │\n",
       "│           ┆ Capsule   ┆           ┆           ┆   ┆           ┆           ┆           ┆          │\n",
       "│           ┆ [Lo…      ┆           ┆           ┆   ┆           ┆           ┆           ┆          │\n",
       "│ 45053735  ┆ Cephalexi ┆ Drug      ┆ NDC       ┆ … ┆ 545693324 ┆ 2007-06-0 ┆ 2012-12-0 ┆ D        │\n",
       "│           ┆ n 500 MG  ┆           ┆           ┆   ┆ 06        ┆ 1         ┆ 1         ┆          │\n",
       "│           ┆ Oral      ┆           ┆           ┆   ┆           ┆           ┆           ┆          │\n",
       "│           ┆ Capsule   ┆           ┆           ┆   ┆           ┆           ┆           ┆          │\n",
       "│ 45053736  ┆ Amoxicill ┆ Drug      ┆ NDC       ┆ … ┆ 545693335 ┆ 2007-06-0 ┆ 2012-12-0 ┆ D        │\n",
       "│           ┆ in 500 MG ┆           ┆           ┆   ┆ 01        ┆ 1         ┆ 1         ┆          │\n",
       "│           ┆ Oral      ┆           ┆           ┆   ┆           ┆           ┆           ┆          │\n",
       "│           ┆ Capsule   ┆           ┆           ┆   ┆           ┆           ┆           ┆          │\n",
       "│ 45053737  ┆ 12 HR Hyo ┆ Drug      ┆ NDC       ┆ … ┆ 545693496 ┆ 2011-01-0 ┆ 2013-07-0 ┆ D        │\n",
       "│           ┆ scyamine  ┆           ┆           ┆   ┆ 00        ┆ 1         ┆ 1         ┆          │\n",
       "│           ┆ Sulfate   ┆           ┆           ┆   ┆           ┆           ┆           ┆          │\n",
       "│           ┆ 0.375 …   ┆           ┆           ┆   ┆           ┆           ┆           ┆          │\n",
       "│ 45053738  ┆ Chloropro ┆ Drug      ┆ NDC       ┆ … ┆ 545693500 ┆ 2010-06-0 ┆ 2013-07-0 ┆ D        │\n",
       "│           ┆ caine hyd ┆           ┆           ┆   ┆ 00        ┆ 1         ┆ 1         ┆          │\n",
       "│           ┆ rochlorid ┆           ┆           ┆   ┆           ┆           ┆           ┆          │\n",
       "│           ┆ e 10 …    ┆           ┆           ┆   ┆           ┆           ┆           ┆          │\n",
       "│ …         ┆ …         ┆ …         ┆ …         ┆ … ┆ …         ┆ …         ┆ …         ┆ …        │\n",
       "│ 45053729  ┆ Thiamine  ┆ Drug      ┆ NDC       ┆ … ┆ 545692880 ┆ 2012-08-0 ┆ 2017-06-0 ┆ D        │\n",
       "│           ┆ 100 MG    ┆           ┆           ┆   ┆ 01        ┆ 1         ┆ 1         ┆          │\n",
       "│           ┆ Oral      ┆           ┆           ┆   ┆           ┆           ┆           ┆          │\n",
       "│           ┆ Tablet    ┆           ┆           ┆   ┆           ┆           ┆           ┆          │\n",
       "│ 45053730  ┆ Lidocaine ┆ Drug      ┆ NDC       ┆ … ┆ 545692943 ┆ 2010-10-0 ┆ 2013-07-0 ┆ D        │\n",
       "│           ┆ Hydrochlo ┆           ┆           ┆   ┆ 00        ┆ 1         ┆ 1         ┆          │\n",
       "│           ┆ ride 0.05 ┆           ┆           ┆   ┆           ┆           ┆           ┆          │\n",
       "│           ┆ MG/…      ┆           ┆           ┆   ┆           ┆           ┆           ┆          │\n",
       "│ 45053731  ┆ Sulfameth ┆ Drug      ┆ NDC       ┆ … ┆ 545692986 ┆ 2007-06-0 ┆ 2013-07-0 ┆ D        │\n",
       "│           ┆ oxazole   ┆           ┆           ┆   ┆ 04        ┆ 1         ┆ 1         ┆          │\n",
       "│           ┆ 800 MG /  ┆           ┆           ┆   ┆           ┆           ┆           ┆          │\n",
       "│           ┆ Trimet…   ┆           ┆           ┆   ┆           ┆           ┆           ┆          │\n",
       "│ 45053732  ┆ Dexametha ┆ Drug      ┆ NDC       ┆ … ┆ 545693027 ┆ 2013-10-0 ┆ 2016-01-0 ┆ D        │\n",
       "│           ┆ sone      ┆           ┆           ┆   ┆ 00        ┆ 1         ┆ 1         ┆          │\n",
       "│           ┆ phosphate ┆           ┆           ┆   ┆           ┆           ┆           ┆          │\n",
       "│           ┆ 4 MG/ML … ┆           ┆           ┆   ┆           ┆           ┆           ┆          │\n",
       "│ 45053733  ┆ Desiccate ┆ Drug      ┆ NDC       ┆ … ┆ 545693179 ┆ 2007-06-0 ┆ 2011-01-0 ┆ D        │\n",
       "│           ┆ d thyroid ┆           ┆           ┆   ┆ 04        ┆ 1         ┆ 1         ┆          │\n",
       "│           ┆ 65 MG     ┆           ┆           ┆   ┆           ┆           ┆           ┆          │\n",
       "│           ┆ Oral Ta…  ┆           ┆           ┆   ┆           ┆           ┆           ┆          │\n",
       "└───────────┴───────────┴───────────┴───────────┴───┴───────────┴───────────┴───────────┴──────────┘"
      ]
     },
     "execution_count": 52,
     "metadata": {},
     "output_type": "execute_result"
    }
   ],
   "source": [
    "df"
   ]
  }
 ],
 "metadata": {
  "kernelspec": {
   "display_name": "Python 3",
   "language": "python",
   "name": "python3"
  },
  "language_info": {
   "codemirror_mode": {
    "name": "ipython",
    "version": 3
   },
   "file_extension": ".py",
   "mimetype": "text/x-python",
   "name": "python",
   "nbconvert_exporter": "python",
   "pygments_lexer": "ipython3",
   "version": "3.11.8"
  }
 },
 "nbformat": 4,
 "nbformat_minor": 2
}
