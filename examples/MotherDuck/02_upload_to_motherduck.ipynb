{
 "cells": [
  {
   "cell_type": "code",
   "execution_count": 1,
   "metadata": {},
   "outputs": [],
   "source": [
    "import os\n",
    "import tomllib\n",
    "import duckdb\n",
    "\n",
    "# Load the TOML file\n",
    "with open(\"config.toml\", \"rb\") as file:\n",
    "    config = tomllib.load(file)\n",
    "\n",
    "# Extract the MD_SERVICE_TOKEN from the loaded config\n",
    "md_service_token = config['mother-duck']['MD_SERVICE_TOKEN']"
   ]
  },
  {
   "cell_type": "code",
   "execution_count": 2,
   "metadata": {},
   "outputs": [],
   "source": [
    "con = duckdb.connect(f'md:?motherduck_token={md_service_token}') "
   ]
  },
  {
   "cell_type": "code",
   "execution_count": 14,
   "metadata": {},
   "outputs": [
    {
     "name": "stdout",
     "output_type": "stream",
     "text": [
      "┌───────────────┐\n",
      "│ database_name │\n",
      "│    varchar    │\n",
      "├───────────────┤\n",
      "│ my_db         │\n",
      "│ voc_omop54    │\n",
      "└───────────────┘\n",
      "\n",
      "┌──────────────┐\n",
      "│ count_star() │\n",
      "│    int64     │\n",
      "├──────────────┤\n",
      "│      9441375 │\n",
      "└──────────────┘\n",
      "\n"
     ]
    }
   ],
   "source": [
    "con.sql(\"SHOW DATABASES\").show()\n",
    "\n",
    "con.sql(\"USE voc_omop54\")\n",
    "con.sql(\"SELECT count(*) FROM concept\").show()"
   ]
  },
  {
   "cell_type": "code",
   "execution_count": 5,
   "metadata": {},
   "outputs": [
    {
     "ename": "CatalogException",
     "evalue": "Catalog Error: Table with name voc_omop54 does not exist!\nDid you mean \"pg_am\"?",
     "output_type": "error",
     "traceback": [
      "\u001b[0;31m---------------------------------------------------------------------------\u001b[0m",
      "\u001b[0;31mCatalogException\u001b[0m                          Traceback (most recent call last)",
      "Cell \u001b[0;32mIn[5], line 1\u001b[0m\n\u001b[0;32m----> 1\u001b[0m \u001b[43mcon\u001b[49m\u001b[38;5;241;43m.\u001b[39;49m\u001b[43msql\u001b[49m\u001b[43m(\u001b[49m\u001b[38;5;124;43m\"\u001b[39;49m\u001b[38;5;124;43mSELECT * FROM voc_omop54\u001b[39;49m\u001b[38;5;124;43m\"\u001b[39;49m\u001b[43m)\u001b[49m\u001b[38;5;241m.\u001b[39mshow()\n",
      "\u001b[0;31mCatalogException\u001b[0m: Catalog Error: Table with name voc_omop54 does not exist!\nDid you mean \"pg_am\"?"
     ]
    }
   ],
   "source": [
    "con.sql(\"SELECT * FROM voc_omop54\").show()"
   ]
  },
  {
   "cell_type": "code",
   "execution_count": 4,
   "metadata": {},
   "outputs": [
    {
     "name": "stdout",
     "output_type": "stream",
     "text": [
      "┌───────────────┐\n",
      "│ database_name │\n",
      "│    varchar    │\n",
      "├───────────────┤\n",
      "│ omop54        │\n",
      "└───────────────┘\n",
      "\n"
     ]
    }
   ],
   "source": [
    "local_con = duckdb.connect(\"../data/external/omop54.ddb\") \n",
    "local_con.sql(\"SHOW DATABASES\").show()"
   ]
  },
  {
   "cell_type": "code",
   "execution_count": 5,
   "metadata": {},
   "outputs": [
    {
     "name": "stdout",
     "output_type": "stream",
     "text": [
      "1. Please open this link to login into your account: https://auth.motherduck.com/activate\n",
      "2. Enter the following code: KXPC-ZMTF\n",
      "\n",
      "\n",
      "Token successfully retrieved ✅\n",
      "\n",
      "You can display the token and store it as an environment variable to avoid having to log in again:\n",
      "  PRAGMA PRINT_MD_TOKEN;\n"
     ]
    }
   ],
   "source": [
    "local_con.sql(\"LOAD motherduck\")\n",
    "local_con.sql(\"CREATE DATABASE voc_omop54 FROM CURRENT_DATABASE()\") "
   ]
  }
 ],
 "metadata": {
  "kernelspec": {
   "display_name": "Python 3",
   "language": "python",
   "name": "python3"
  },
  "language_info": {
   "codemirror_mode": {
    "name": "ipython",
    "version": 3
   },
   "file_extension": ".py",
   "mimetype": "text/x-python",
   "name": "python",
   "nbconvert_exporter": "python",
   "pygments_lexer": "ipython3",
   "version": "3.11.8"
  }
 },
 "nbformat": 4,
 "nbformat_minor": 2
}
