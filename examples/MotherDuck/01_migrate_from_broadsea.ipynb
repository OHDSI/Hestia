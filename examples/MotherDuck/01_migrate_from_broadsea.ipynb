{
 "cells": [
  {
   "cell_type": "markdown",
   "metadata": {},
   "source": [
    "# Migrate OMOP v5.4 Vocabulary and Concept Tables to DuckDB\n",
    "\n",
    "## Overview\n",
    "\n",
    "This notebook demonstrates how to migrate vocabulary and concept tables from [Broadsea](https://github.com/OHDSI/Broadsea) PostgreSQL loaded with OMOP Vocab to a local DuckDB database.\n",
    "\n",
    "### Import Libraries\n",
    "\n",
    "We will use Ibis as the primary library to connect to both PostgreSQL and DuckDB. In addition, we use toml to store variables for connecting to PostgreSQL."
   ]
  },
  {
   "cell_type": "code",
   "execution_count": null,
   "metadata": {},
   "outputs": [],
   "source": [
    "import os\n",
    "import tomllib\n",
    "import ibis\n",
    "\n",
    "\n",
    "\n",
    "# Load the TOML file\n",
    "with open(\"config.toml\", \"rb\") as file:\n",
    "    config = tomllib.load(file)\n",
    "\n",
    "POSTGRES_USER = config['broadsea_postgresql']['POSTGRES_USER']\n",
    "POSTGRES_PASSWORD = config['broadsea_postgresql']['POSTGRES_PASSWORD']\n",
    "POSTGRES_DB = config['broadsea_postgresql']['POSTGRES_DB']\n",
    "POSTGRES_SCHEMA = config['broadsea_postgresql']['POSTGRES_SCHEMA']\n",
    "POSTGRES_HOST = config['broadsea_postgresql']['POSTGRES_HOST']\n",
    "POSTGRES_PORT = config['broadsea_postgresql']['POSTGRES_PORT']\n",
    "\n",
    "\n",
    "con = ibis.postgres.connect(schema=POSTGRES_SCHEMA, database=POSTGRES_DB, host=POSTGRES_HOST, user=POSTGRES_USER, password=POSTGRES_PASSWORD)\n",
    "\n",
    "con.list_tables()\n"
   ]
  },
  {
   "cell_type": "markdown",
   "metadata": {},
   "source": [
    "### Copy Tables to DuckDB\n",
    "\n",
    "Next, we will create corresponding tables in DuckDB and copy the tables from the Broadsea PostgreSQL to the local .ddb file. "
   ]
  },
  {
   "cell_type": "code",
   "execution_count": null,
   "metadata": {},
   "outputs": [],
   "source": [
    "import polars as pl\n",
    "from tqdm import tqdm\n",
    "\n",
    "def create_duckdb_tables(table_names, con):\n",
    "    total_tables = len(table_names)\n",
    "    for table_name in tqdm(table_names, desc='Processing tables', total=total_tables):\n",
    "        # Assuming `polars_con` is your Polars connection object\n",
    "        t = con.table(table_name)\n",
    "        \n",
    "        # Connect to DuckDB\n",
    "        duckdb_con = ibis.connect(\"duckdb://omop54.ddb\")\n",
    "        \n",
    "        # Create table in DuckDB\n",
    "        duckdb_con.create_table(table_name, t.to_pyarrow(), overwrite=True)\n",
    "\n",
    "# List of table names\n",
    "table_names = [\n",
    "    \"concept\",\n",
    "    \"concept_ancestor\",\n",
    "    \"concept_class\",\n",
    "    \"concept_recommended\",\n",
    "    \"concept_relationship\",\n",
    "    \"concept_synonym\",\n",
    "    \"vocabulary\"\n",
    "]\n",
    "\n",
    "# Create DuckDB tables\n",
    "create_duckdb_tables(table_names, con)"
   ]
  },
  {
   "cell_type": "code",
   "execution_count": null,
   "metadata": {},
   "outputs": [],
   "source": [
    "voc_db = ibis.connect(\"duckdb://omop54.ddb\")\n",
    "\n",
    "voc_db.list_tables()"
   ]
  },
  {
   "cell_type": "code",
   "execution_count": null,
   "metadata": {},
   "outputs": [],
   "source": [
    "import pandas as pd\n",
    "\n",
    "concepts_tbl = voc_db.table(\"concept\")\n",
    "\n",
    "concepts_df = pl.from_arrow(concepts_tbl.head(5).to_pyarrow())\n",
    "concepts_df"
   ]
  }
 ],
 "metadata": {
  "kernelspec": {
   "display_name": "Python 3",
   "language": "python",
   "name": "python3"
  },
  "language_info": {
   "codemirror_mode": {
    "name": "ipython",
    "version": 3
   },
   "file_extension": ".py",
   "mimetype": "text/x-python",
   "name": "python",
   "nbconvert_exporter": "python",
   "pygments_lexer": "ipython3",
   "version": "3.11.8"
  }
 },
 "nbformat": 4,
 "nbformat_minor": 2
}
