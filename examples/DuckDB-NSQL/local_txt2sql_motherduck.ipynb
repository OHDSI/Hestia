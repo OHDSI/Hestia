{
 "cells": [
  {
   "cell_type": "markdown",
   "metadata": {},
   "source": [
    "# Text-to-SQL Using DuckDB-NSQL\n",
    "\n",
    "This can be slow when done using CPU only. On a 4-core 16GB codepsace, it takes about 4min 22s to run.\n",
    "\n",
    "\n",
    "[DuckDB-NSQL GitHub](https://github.com/NumbersStationAI/DuckDB-NSQL)\n",
    "\n",
    "[DuckDB-NSQL-7B-v0.1-GGUF](https://huggingface.co/motherduckdb/DuckDB-NSQL-7B-v0.1-GGUF)"
   ]
  },
  {
   "cell_type": "markdown",
   "metadata": {},
   "source": [
    "## 1. Setup\n",
    "\n",
    "### 1.1 Ensure you are using the correct version of Python\n",
    "\n",
    "This example uses Python 3.11.8, which should be set automatically if you are using the devcontainer."
   ]
  },
  {
   "cell_type": "code",
   "execution_count": 1,
   "metadata": {},
   "outputs": [
    {
     "name": "stdout",
     "output_type": "stream",
     "text": [
      "Python 3.11.8\n"
     ]
    }
   ],
   "source": [
    "!python --version"
   ]
  },
  {
   "cell_type": "markdown",
   "metadata": {},
   "source": [
    "### 1.2 Set Environment Variables for llama-cpp-python"
   ]
  },
  {
   "cell_type": "code",
   "execution_count": 2,
   "metadata": {},
   "outputs": [],
   "source": [
    "#!CMAKE_ARGS=\"-DLLAMA_BLAS=ON -DLLAMA_BLAS_VENDOR=OpenBLAS\""
   ]
  },
  {
   "cell_type": "markdown",
   "metadata": {},
   "source": [
    "### 1.3 Download DuckDB-NSQL GGUF Model\n",
    "\n",
    "Make sure you comment out the followoing for subsequent runs, otherwise the model will download everytime."
   ]
  },
  {
   "cell_type": "code",
   "execution_count": 3,
   "metadata": {},
   "outputs": [],
   "source": [
    "#!huggingface-cli download motherduckdb/DuckDB-NSQL-7B-v0.1-GGUF DuckDB-NSQL-7B-v0.1-q8_0.gguf --local-dir . --local-dir-use-symlinks False"
   ]
  },
  {
   "cell_type": "markdown",
   "metadata": {},
   "source": [
    "## 2. Model Execution\n",
    "\n",
    "### 2.1 Import Libraries"
   ]
  },
  {
   "cell_type": "code",
   "execution_count": 4,
   "metadata": {},
   "outputs": [],
   "source": [
    "import os\n",
    "import tomllib\n",
    "import duckdb\n",
    "\n",
    "from wurlitzer import pipes\n",
    "from utils import generate_sql\n",
    "from llama_cpp import Llama"
   ]
  },
  {
   "cell_type": "markdown",
   "metadata": {},
   "source": [
    "### 2.2 Load Model "
   ]
  },
  {
   "cell_type": "code",
   "execution_count": 5,
   "metadata": {
    "scrolled": true
   },
   "outputs": [
    {
     "name": "stderr",
     "output_type": "stream",
     "text": [
      "llama_model_loader: loaded meta data with 23 key-value pairs and 291 tensors from DuckDB-NSQL-7B-v0.1-q8_0.gguf (version GGUF V3 (latest))\n",
      "llama_model_loader: Dumping metadata keys/values. Note: KV overrides do not apply in this output.\n",
      "llama_model_loader: - kv   0:                       general.architecture str              = llama\n",
      "llama_model_loader: - kv   1:                               general.name str              = models\n",
      "llama_model_loader: - kv   2:                       llama.context_length u32              = 16384\n",
      "llama_model_loader: - kv   3:                     llama.embedding_length u32              = 4096\n",
      "llama_model_loader: - kv   4:                          llama.block_count u32              = 32\n",
      "llama_model_loader: - kv   5:                  llama.feed_forward_length u32              = 11008\n",
      "llama_model_loader: - kv   6:                 llama.rope.dimension_count u32              = 128\n",
      "llama_model_loader: - kv   7:                 llama.attention.head_count u32              = 32\n",
      "llama_model_loader: - kv   8:              llama.attention.head_count_kv u32              = 32\n",
      "llama_model_loader: - kv   9:     llama.attention.layer_norm_rms_epsilon f32              = 0.000010\n",
      "llama_model_loader: - kv  10:                       llama.rope.freq_base f32              = 1000000.000000\n",
      "llama_model_loader: - kv  11:                          general.file_type u32              = 7\n",
      "llama_model_loader: - kv  12:                       tokenizer.ggml.model str              = llama\n",
      "llama_model_loader: - kv  13:                      tokenizer.ggml.tokens arr[str,32016]   = [\"<unk>\", \"<s>\", \"</s>\", \"<0x00>\", \"<...\n"
     ]
    },
    {
     "name": "stderr",
     "output_type": "stream",
     "text": [
      "llama_model_loader: - kv  14:                      tokenizer.ggml.scores arr[f32,32016]   = [0.000000, 0.000000, 0.000000, 0.0000...\n",
      "llama_model_loader: - kv  15:                  tokenizer.ggml.token_type arr[i32,32016]   = [2, 3, 3, 6, 6, 6, 6, 6, 6, 6, 6, 6, ...\n",
      "llama_model_loader: - kv  16:                tokenizer.ggml.bos_token_id u32              = 1\n",
      "llama_model_loader: - kv  17:                tokenizer.ggml.eos_token_id u32              = 2\n",
      "llama_model_loader: - kv  18:            tokenizer.ggml.unknown_token_id u32              = 0\n",
      "llama_model_loader: - kv  19:            tokenizer.ggml.padding_token_id u32              = 2\n",
      "llama_model_loader: - kv  20:               tokenizer.ggml.add_bos_token bool             = true\n",
      "llama_model_loader: - kv  21:               tokenizer.ggml.add_eos_token bool             = false\n",
      "llama_model_loader: - kv  22:               general.quantization_version u32              = 2\n",
      "llama_model_loader: - type  f32:   65 tensors\n",
      "llama_model_loader: - type q8_0:  226 tensors\n",
      "llm_load_vocab: mismatch in special tokens definition ( 264/32016 vs 259/32016 ).\n",
      "llm_load_print_meta: format           = GGUF V3 (latest)\n",
      "llm_load_print_meta: arch             = llama\n",
      "llm_load_print_meta: vocab type       = SPM\n",
      "llm_load_print_meta: n_vocab          = 32016\n",
      "llm_load_print_meta: n_merges         = 0\n",
      "llm_load_print_meta: n_ctx_train      = 16384\n",
      "llm_load_print_meta: n_embd           = 4096\n",
      "llm_load_print_meta: n_head           = 32\n",
      "llm_load_print_meta: n_head_kv        = 32\n",
      "llm_load_print_meta: n_layer          = 32\n",
      "llm_load_print_meta: n_rot            = 128\n",
      "llm_load_print_meta: n_embd_head_k    = 128\n",
      "llm_load_print_meta: n_embd_head_v    = 128\n",
      "llm_load_print_meta: n_gqa            = 1\n",
      "llm_load_print_meta: n_embd_k_gqa     = 4096\n",
      "llm_load_print_meta: n_embd_v_gqa     = 4096\n",
      "llm_load_print_meta: f_norm_eps       = 0.0e+00\n",
      "llm_load_print_meta: f_norm_rms_eps   = 1.0e-05\n",
      "llm_load_print_meta: f_clamp_kqv      = 0.0e+00\n",
      "llm_load_print_meta: f_max_alibi_bias = 0.0e+00\n",
      "llm_load_print_meta: n_ff             = 11008\n",
      "llm_load_print_meta: n_expert         = 0\n",
      "llm_load_print_meta: n_expert_used    = 0\n",
      "llm_load_print_meta: pooling type     = 0\n",
      "llm_load_print_meta: rope type        = 0\n",
      "llm_load_print_meta: rope scaling     = linear\n",
      "llm_load_print_meta: freq_base_train  = 1000000.0\n",
      "llm_load_print_meta: freq_scale_train = 1\n",
      "llm_load_print_meta: n_yarn_orig_ctx  = 16384\n",
      "llm_load_print_meta: rope_finetuned   = unknown\n",
      "llm_load_print_meta: ssm_d_conv       = 0\n",
      "llm_load_print_meta: ssm_d_inner      = 0\n",
      "llm_load_print_meta: ssm_d_state      = 0\n",
      "llm_load_print_meta: ssm_dt_rank      = 0\n",
      "llm_load_print_meta: model type       = 7B\n",
      "llm_load_print_meta: model ftype      = Q8_0\n",
      "llm_load_print_meta: model params     = 6.74 B\n",
      "llm_load_print_meta: model size       = 6.67 GiB (8.50 BPW) \n",
      "llm_load_print_meta: general.name     = models\n",
      "llm_load_print_meta: BOS token        = 1 '<s>'\n",
      "llm_load_print_meta: EOS token        = 2 '</s>'\n",
      "llm_load_print_meta: UNK token        = 0 '<unk>'\n",
      "llm_load_print_meta: PAD token        = 2 '</s>'\n",
      "llm_load_print_meta: LF token         = 13 '<0x0A>'\n",
      "llm_load_tensors: ggml ctx size =    0.11 MiB\n",
      "llm_load_tensors:        CPU buffer size =  6828.77 MiB\n",
      "...................................................................................................\n",
      "llama_new_context_with_model: n_ctx      = 2048\n",
      "llama_new_context_with_model: freq_base  = 1000000.0\n",
      "llama_new_context_with_model: freq_scale = 1\n",
      "llama_kv_cache_init:        CPU KV buffer size =  1024.00 MiB\n",
      "llama_new_context_with_model: KV self size  = 1024.00 MiB, K (f16):  512.00 MiB, V (f16):  512.00 MiB\n",
      "llama_new_context_with_model:        CPU input buffer size   =    13.02 MiB\n",
      "llama_new_context_with_model:        CPU compute buffer size =   160.00 MiB\n",
      "llama_new_context_with_model: graph splits (measure): 1\n",
      "AVX = 1 | AVX_VNNI = 0 | AVX2 = 1 | AVX512 = 0 | AVX512_VBMI = 0 | AVX512_VNNI = 0 | FMA = 1 | NEON = 0 | ARM_FMA = 0 | F16C = 1 | FP16_VA = 0 | WASM_SIMD = 0 | BLAS = 0 | SSE3 = 1 | SSSE3 = 1 | VSX = 0 | MATMUL_INT8 = 0 | \n",
      "Model metadata: {'tokenizer.ggml.add_eos_token': 'false', 'tokenizer.ggml.padding_token_id': '2', 'tokenizer.ggml.unknown_token_id': '0', 'tokenizer.ggml.eos_token_id': '2', 'general.architecture': 'llama', 'llama.rope.freq_base': '1000000.000000', 'llama.context_length': '16384', 'general.name': 'models', 'tokenizer.ggml.add_bos_token': 'true', 'llama.embedding_length': '4096', 'llama.feed_forward_length': '11008', 'llama.attention.layer_norm_rms_epsilon': '0.000010', 'llama.rope.dimension_count': '128', 'tokenizer.ggml.bos_token_id': '1', 'llama.attention.head_count': '32', 'llama.block_count': '32', 'llama.attention.head_count_kv': '32', 'general.quantization_version': '2', 'tokenizer.ggml.model': 'llama', 'general.file_type': '7'}\n",
      "Using fallback chat format: None\n"
     ]
    }
   ],
   "source": [
    "with pipes() as (out, err):\n",
    "    client = Llama(\n",
    "        model_path=\"DuckDB-NSQL-7B-v0.1-q8_0.gguf\",\n",
    "        n_ctx=2048,\n",
    "    )"
   ]
  },
  {
   "cell_type": "markdown",
   "metadata": {},
   "source": [
    "### 2.3 Connect to MotherDuck"
   ]
  },
  {
   "cell_type": "code",
   "execution_count": 6,
   "metadata": {},
   "outputs": [],
   "source": [
    "# Load the TOML file for MotherDuck credentials\n",
    "with open(\"config.toml\", \"rb\") as file:\n",
    "    config = tomllib.load(file)\n",
    "\n",
    "# Extract the MD_SERVICE_TOKEN from the loaded config\n",
    "md_service_token = config['mother-duck']['MD_SERVICE_TOKEN']\n",
    "\n",
    "os.environ['motherduck_token'] = md_service_token\n",
    "\n",
    "con = duckdb.connect(f'md:?motherduck_token={md_service_token}') "
   ]
  },
  {
   "cell_type": "markdown",
   "metadata": {},
   "source": [
    "### 2.4 Prompt SQL Generation"
   ]
  },
  {
   "cell_type": "code",
   "execution_count": 7,
   "metadata": {},
   "outputs": [],
   "source": [
    "question = \"Search for all concepts within the voc_omop54_shared.concept table that contain the word 'Thiamine'\""
   ]
  },
  {
   "cell_type": "code",
   "execution_count": 8,
   "metadata": {},
   "outputs": [
    {
     "name": "stderr",
     "output_type": "stream",
     "text": [
      "\n",
      "llama_print_timings:        load time =   79007.28 ms\n",
      "llama_print_timings:      sample time =       4.54 ms /    26 runs   (    0.17 ms per token,  5729.40 tokens per second)\n",
      "llama_print_timings: prompt eval time =  124144.84 ms /   799 tokens (  155.38 ms per token,     6.44 tokens per second)\n",
      "llama_print_timings:        eval time =    6947.22 ms /    25 runs   (  277.89 ms per token,     3.60 tokens per second)\n",
      "llama_print_timings:       total time =  131164.15 ms /   824 tokens\n"
     ]
    },
    {
     "name": "stdout",
     "output_type": "stream",
     "text": [
      "!!!Invalid SQL detected!!!\n",
      " SELECT * FROM voc_omop54_shared.concept WHERE concept_name LIKE '%Thiamine%';\n",
      "Exception: Catalog Error: Column with name concept_id already exists!\n",
      "\n",
      "CPU times: user 4min 22s, sys: 562 ms, total: 4min 22s\n",
      "Wall time: 2min 11s\n"
     ]
    }
   ],
   "source": [
    "%%time\n",
    "sql_query = generate_sql(question, con, client)"
   ]
  },
  {
   "cell_type": "code",
   "execution_count": 9,
   "metadata": {},
   "outputs": [
    {
     "name": "stdout",
     "output_type": "stream",
     "text": [
      " SELECT * FROM voc_omop54_shared.concept WHERE concept_name LIKE '%Thiamine%';\n"
     ]
    }
   ],
   "source": [
    "print(sql_query)"
   ]
  },
  {
   "cell_type": "markdown",
   "metadata": {},
   "source": [
    "### 2.5 Direct Execution on Database"
   ]
  },
  {
   "cell_type": "code",
   "execution_count": 10,
   "metadata": {},
   "outputs": [
    {
     "name": "stdout",
     "output_type": "stream",
     "text": [
      "CPU times: user 28.5 ms, sys: 3.99 ms, total: 32.5 ms\n",
      "Wall time: 188 ms\n"
     ]
    },
    {
     "data": {
      "text/html": [
       "<div>\n",
       "<style scoped>\n",
       "    .dataframe tbody tr th:only-of-type {\n",
       "        vertical-align: middle;\n",
       "    }\n",
       "\n",
       "    .dataframe tbody tr th {\n",
       "        vertical-align: top;\n",
       "    }\n",
       "\n",
       "    .dataframe thead th {\n",
       "        text-align: right;\n",
       "    }\n",
       "</style>\n",
       "<table border=\"1\" class=\"dataframe\">\n",
       "  <thead>\n",
       "    <tr style=\"text-align: right;\">\n",
       "      <th></th>\n",
       "      <th>concept_id</th>\n",
       "      <th>concept_name</th>\n",
       "      <th>domain_id</th>\n",
       "      <th>vocabulary_id</th>\n",
       "      <th>concept_class_id</th>\n",
       "      <th>standard_concept</th>\n",
       "      <th>concept_code</th>\n",
       "      <th>valid_start_date</th>\n",
       "      <th>valid_end_date</th>\n",
       "      <th>invalid_reason</th>\n",
       "    </tr>\n",
       "  </thead>\n",
       "  <tbody>\n",
       "    <tr>\n",
       "      <th>0</th>\n",
       "      <td>45053776</td>\n",
       "      <td>Ascorbic Acid 60 MG / Folic Acid 0.3 MG / Niac...</td>\n",
       "      <td>Drug</td>\n",
       "      <td>NDC</td>\n",
       "      <td>11-digit NDC</td>\n",
       "      <td>None</td>\n",
       "      <td>54569462900</td>\n",
       "      <td>2013-01-01</td>\n",
       "      <td>2016-08-01</td>\n",
       "      <td>D</td>\n",
       "    </tr>\n",
       "    <tr>\n",
       "      <th>1</th>\n",
       "      <td>45059563</td>\n",
       "      <td>Thiamine 100 MG Oral Tablet</td>\n",
       "      <td>Drug</td>\n",
       "      <td>NDC</td>\n",
       "      <td>11-digit NDC</td>\n",
       "      <td>None</td>\n",
       "      <td>00002206302</td>\n",
       "      <td>2007-06-01</td>\n",
       "      <td>2011-01-01</td>\n",
       "      <td>D</td>\n",
       "    </tr>\n",
       "    <tr>\n",
       "      <th>2</th>\n",
       "      <td>45061948</td>\n",
       "      <td>Thiamine 200 MG/ML Injectable Solution</td>\n",
       "      <td>Drug</td>\n",
       "      <td>NDC</td>\n",
       "      <td>11-digit NDC</td>\n",
       "      <td>None</td>\n",
       "      <td>00381008630</td>\n",
       "      <td>2007-06-01</td>\n",
       "      <td>2011-01-01</td>\n",
       "      <td>D</td>\n",
       "    </tr>\n",
       "    <tr>\n",
       "      <th>3</th>\n",
       "      <td>45062388</td>\n",
       "      <td>Thiamine 50 MG Oral Tablet</td>\n",
       "      <td>Drug</td>\n",
       "      <td>NDC</td>\n",
       "      <td>11-digit NDC</td>\n",
       "      <td>None</td>\n",
       "      <td>00527113610</td>\n",
       "      <td>2007-06-01</td>\n",
       "      <td>2011-01-01</td>\n",
       "      <td>D</td>\n",
       "    </tr>\n",
       "    <tr>\n",
       "      <th>4</th>\n",
       "      <td>45062464</td>\n",
       "      <td>Thiamine 50 MG Oral Tablet</td>\n",
       "      <td>Drug</td>\n",
       "      <td>NDC</td>\n",
       "      <td>11-digit NDC</td>\n",
       "      <td>None</td>\n",
       "      <td>00536467810</td>\n",
       "      <td>2007-06-01</td>\n",
       "      <td>2011-01-01</td>\n",
       "      <td>D</td>\n",
       "    </tr>\n",
       "    <tr>\n",
       "      <th>...</th>\n",
       "      <td>...</td>\n",
       "      <td>...</td>\n",
       "      <td>...</td>\n",
       "      <td>...</td>\n",
       "      <td>...</td>\n",
       "      <td>...</td>\n",
       "      <td>...</td>\n",
       "      <td>...</td>\n",
       "      <td>...</td>\n",
       "      <td>...</td>\n",
       "    </tr>\n",
       "    <tr>\n",
       "      <th>11240</th>\n",
       "      <td>45045956</td>\n",
       "      <td>Thiamine 100 MG/ML Injectable Solution</td>\n",
       "      <td>Drug</td>\n",
       "      <td>NDC</td>\n",
       "      <td>11-digit NDC</td>\n",
       "      <td>None</td>\n",
       "      <td>00736008530</td>\n",
       "      <td>2007-06-01</td>\n",
       "      <td>2011-01-01</td>\n",
       "      <td>D</td>\n",
       "    </tr>\n",
       "    <tr>\n",
       "      <th>11241</th>\n",
       "      <td>45046589</td>\n",
       "      <td>Beta Carotene, Ascorbic Acid, Cholecalciferol,...</td>\n",
       "      <td>Drug</td>\n",
       "      <td>NDC</td>\n",
       "      <td>9-digit NDC</td>\n",
       "      <td>None</td>\n",
       "      <td>013925127</td>\n",
       "      <td>2013-08-05</td>\n",
       "      <td>2099-12-31</td>\n",
       "      <td>None</td>\n",
       "    </tr>\n",
       "    <tr>\n",
       "      <th>11242</th>\n",
       "      <td>45048725</td>\n",
       "      <td>Thiamine 100 MG Oral Tablet</td>\n",
       "      <td>Drug</td>\n",
       "      <td>NDC</td>\n",
       "      <td>11-digit NDC</td>\n",
       "      <td>None</td>\n",
       "      <td>12634030401</td>\n",
       "      <td>2007-06-01</td>\n",
       "      <td>2011-01-01</td>\n",
       "      <td>D</td>\n",
       "    </tr>\n",
       "    <tr>\n",
       "      <th>11243</th>\n",
       "      <td>45049141</td>\n",
       "      <td>Thiamine 100 MG Oral Tablet</td>\n",
       "      <td>Drug</td>\n",
       "      <td>NDC</td>\n",
       "      <td>11-digit NDC</td>\n",
       "      <td>None</td>\n",
       "      <td>17236045601</td>\n",
       "      <td>2007-06-01</td>\n",
       "      <td>2011-01-01</td>\n",
       "      <td>D</td>\n",
       "    </tr>\n",
       "    <tr>\n",
       "      <th>11244</th>\n",
       "      <td>45053729</td>\n",
       "      <td>Thiamine 100 MG Oral Tablet</td>\n",
       "      <td>Drug</td>\n",
       "      <td>NDC</td>\n",
       "      <td>11-digit NDC</td>\n",
       "      <td>None</td>\n",
       "      <td>54569288001</td>\n",
       "      <td>2012-08-01</td>\n",
       "      <td>2017-06-01</td>\n",
       "      <td>D</td>\n",
       "    </tr>\n",
       "  </tbody>\n",
       "</table>\n",
       "<p>11245 rows × 10 columns</p>\n",
       "</div>"
      ],
      "text/plain": [
       "       concept_id                                       concept_name  \\\n",
       "0        45053776  Ascorbic Acid 60 MG / Folic Acid 0.3 MG / Niac...   \n",
       "1        45059563                        Thiamine 100 MG Oral Tablet   \n",
       "2        45061948             Thiamine 200 MG/ML Injectable Solution   \n",
       "3        45062388                         Thiamine 50 MG Oral Tablet   \n",
       "4        45062464                         Thiamine 50 MG Oral Tablet   \n",
       "...           ...                                                ...   \n",
       "11240    45045956             Thiamine 100 MG/ML Injectable Solution   \n",
       "11241    45046589  Beta Carotene, Ascorbic Acid, Cholecalciferol,...   \n",
       "11242    45048725                        Thiamine 100 MG Oral Tablet   \n",
       "11243    45049141                        Thiamine 100 MG Oral Tablet   \n",
       "11244    45053729                        Thiamine 100 MG Oral Tablet   \n",
       "\n",
       "      domain_id vocabulary_id concept_class_id standard_concept concept_code  \\\n",
       "0          Drug           NDC     11-digit NDC             None  54569462900   \n",
       "1          Drug           NDC     11-digit NDC             None  00002206302   \n",
       "2          Drug           NDC     11-digit NDC             None  00381008630   \n",
       "3          Drug           NDC     11-digit NDC             None  00527113610   \n",
       "4          Drug           NDC     11-digit NDC             None  00536467810   \n",
       "...         ...           ...              ...              ...          ...   \n",
       "11240      Drug           NDC     11-digit NDC             None  00736008530   \n",
       "11241      Drug           NDC      9-digit NDC             None    013925127   \n",
       "11242      Drug           NDC     11-digit NDC             None  12634030401   \n",
       "11243      Drug           NDC     11-digit NDC             None  17236045601   \n",
       "11244      Drug           NDC     11-digit NDC             None  54569288001   \n",
       "\n",
       "      valid_start_date valid_end_date invalid_reason  \n",
       "0           2013-01-01     2016-08-01              D  \n",
       "1           2007-06-01     2011-01-01              D  \n",
       "2           2007-06-01     2011-01-01              D  \n",
       "3           2007-06-01     2011-01-01              D  \n",
       "4           2007-06-01     2011-01-01              D  \n",
       "...                ...            ...            ...  \n",
       "11240       2007-06-01     2011-01-01              D  \n",
       "11241       2013-08-05     2099-12-31           None  \n",
       "11242       2007-06-01     2011-01-01              D  \n",
       "11243       2007-06-01     2011-01-01              D  \n",
       "11244       2012-08-01     2017-06-01              D  \n",
       "\n",
       "[11245 rows x 10 columns]"
      ]
     },
     "execution_count": 10,
     "metadata": {},
     "output_type": "execute_result"
    }
   ],
   "source": [
    "%%time\n",
    "con.execute(sql_query).fetchdf()"
   ]
  }
 ],
 "metadata": {
  "kernelspec": {
   "display_name": "Python 3 (ipykernel)",
   "language": "python",
   "name": "python3"
  },
  "language_info": {
   "codemirror_mode": {
    "name": "ipython",
    "version": 3
   },
   "file_extension": ".py",
   "mimetype": "text/x-python",
   "name": "python",
   "nbconvert_exporter": "python",
   "pygments_lexer": "ipython3",
   "version": "3.11.8"
  }
 },
 "nbformat": 4,
 "nbformat_minor": 4
}
